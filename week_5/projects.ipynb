{
 "cells": [
  {
   "cell_type": "markdown",
   "id": "63205081",
   "metadata": {},
   "source": [
    "# PROJECT I"
   ]
  },
  {
   "cell_type": "code",
   "execution_count": 1,
   "id": "2e450abd",
   "metadata": {},
   "outputs": [],
   "source": [
    "# program that displays people name in tables"
   ]
  },
  {
   "cell_type": "code",
   "execution_count": 2,
   "id": "38896efe",
   "metadata": {},
   "outputs": [
    {
     "name": "stdout",
     "output_type": "stream",
     "text": [
      "Name       |  Age | Height| Score|\n",
      "----------------------------------\n",
      "Samantha   |  17  |  5.5  |  80  | \n",
      "Charles    |  19  |  5.7  |  74  | \n",
      "Jada       |  16  |  6.0  |  85  | \n",
      "Jude       |  16  |  5.9  |  87  | \n",
      "Jane       |  17  |  5.4  |  70  | \n",
      "James      |  18  |  5.8  |  75  | \n",
      "Claire     |  18  |  5.9  |  60  | \n",
      "Kelvin     |  17  |  6.1  |  68  | \n",
      "Elizabeth  |  16  |  5.6  |  76  | \n",
      "Biodun     |  20  |  5.9  |  66  | \n",
      "Mary       |  18  |  5.5  |  66  | \n",
      "Wale       |  19  |  5.5  |  78  | \n",
      "Susan      |  17  |  6.1  |  87  | \n",
      "Kunle      |  16  |  6.1  |  87  | \n",
      "Waje       |  20  |  6.0  |  95  | \n",
      "Matthew    |  18  |  5.4  |  98  | \n",
      "Taibat     |  19  |  5.7  |  50  | \n",
      "Tom        |  17  |  5.8  |  54  | \n",
      "Lilian     |  17  |  5.5  |  49  | \n",
      "Kayode     |  19  |  5.7  |  60  | \n"
     ]
    }
   ],
   "source": [
    "names = {\"Girls\":[\"Samantha \", \"Jada     \", \"Jane     \", \"Claire   \", \"Elizabeth\",\"Mary     \", \"Susan    \", \"Waje     \", \"Taibat   \", \"Lilian   \"], \n",
    "         \"Boys\": [\"Charles  \", \"Jude     \", \"James    \", \"Kelvin   \", \"Biodun   \", \"Wale     \", \"Kunle    \", \"Matthew  \", \"Tom      \", \"Kayode   \"]}\n",
    "\n",
    "\n",
    "age = {\"Girls\":[17, 16, 17, 18, 16, 18, 17, 20, 19, 17], \n",
    "       \"Boys\": [19, 16, 18, 17, 20, 19, 16, 18, 17, 19]}\n",
    "\n",
    "height = {\"Girls\":[5.5, 6.0, 5.4, 5.9, 5.6, 5.5, 6.1, 6.0, 5.7, 5.5], \n",
    "          \"Boys\": [5.7, 5.9, 5.8, 6.1, 5.9, 5.5, 6.1, 5.4, 5.8, 5.7]}\n",
    "\n",
    "scores = {\"Girls\":[80, 85, 70, 60, 76, 66, 87, 95, 50, 49], \n",
    "          \"Boys\": [74, 87, 75, 68, 66, 78, 87, 98, 54, 60]}\n",
    "\n",
    "print(\"Name       |  Age | Height| Score|\")\n",
    "print(\"----------------------------------\")\n",
    "for i in range(10):\n",
    "    print(names[\"Girls\"][i], \" | \", age[\"Girls\"][i], \" | \", height[\"Girls\"][i], \" | \", scores[\"Girls\"][i], \" | \")\n",
    "    print(names[\"Boys\"][i], \" | \", age[\"Boys\"][i], \" | \", height[\"Boys\"][i], \" | \", scores[\"Boys\"][i], \" | \")"
   ]
  },
  {
   "cell_type": "markdown",
   "id": "63264b5d",
   "metadata": {},
   "source": [
    "# PROJECT II"
   ]
  },
  {
   "cell_type": "code",
   "execution_count": 4,
   "id": "b5f209af",
   "metadata": {},
   "outputs": [
    {
     "name": "stdout",
     "output_type": "stream",
     "text": [
      "Enter Your Age: 24\n",
      "Enter Your Number Of Years of Experience: 2\n",
      "Your Annual Tax Revenue is N550,000.\n"
     ]
    }
   ],
   "source": [
    "staff_age = int(input(\"Enter Your Age: \"))\n",
    "staff_exp = int(input(\"Enter Your Number Of Years of Experience: \"))\n",
    "\n",
    "if staff_age  >= 55 and staff_exp >= 25:\n",
    "    print('Your Annual Tax Revenue is N5,600,000.')\n",
    "    \n",
    "elif staff_age >= 45 and staff_exp >= 20:\n",
    "    print('Your Annual Tax Revenue is N4,800,000.')\n",
    "    \n",
    "elif staff_age >= 35 and staff_exp >= 10:\n",
    "    print('Your Annual Tax Revenue is N1,500,000.')\n",
    "    \n",
    "else:\n",
    "    print('Your Annual Tax Revenue is N550,000.')    "
   ]
  },
  {
   "cell_type": "code",
   "execution_count": null,
   "id": "be885d51",
   "metadata": {},
   "outputs": [],
   "source": []
  }
 ],
 "metadata": {
  "kernelspec": {
   "display_name": "Python 3 (ipykernel)",
   "language": "python",
   "name": "python3"
  },
  "language_info": {
   "codemirror_mode": {
    "name": "ipython",
    "version": 3
   },
   "file_extension": ".py",
   "mimetype": "text/x-python",
   "name": "python",
   "nbconvert_exporter": "python",
   "pygments_lexer": "ipython3",
   "version": "3.10.6"
  }
 },
 "nbformat": 4,
 "nbformat_minor": 5
}
