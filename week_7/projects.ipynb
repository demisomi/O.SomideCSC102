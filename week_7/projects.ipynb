{
 "cells": [
  {
   "cell_type": "code",
   "execution_count": 2,
   "id": "59006517",
   "metadata": {},
   "outputs": [],
   "source": [
    "import pandas as pd"
   ]
  },
  {
   "cell_type": "markdown",
   "id": "9a0a7135",
   "metadata": {},
   "source": [
    "# PROJECT 1"
   ]
  },
  {
   "cell_type": "code",
   "execution_count": 2,
   "id": "ca28f127",
   "metadata": {},
   "outputs": [
    {
     "name": "stdout",
     "output_type": "stream",
     "text": [
      "\n",
      "Employee Verification System\n",
      "\n",
      "Enter Your Surname: ADENIRAN\n",
      "\n",
      "Enter Your Department: logistics\n",
      "\n",
      "Welcome ADENIRAN to jt-ventures profile\n",
      "     S/N           SURNAME     FIRST NAME      DEPARTMENT\n",
      "0    1.0          ADENIRAN  Oluwatamilore       Logistics\n",
      "1    2.0           ADEWUMI        Ayomide      Accounting\n",
      "2    3.0       ADOH-AJAGBE          Oshim        Delivery\n",
      "3    4.0  AGBAKURU- \\NWOGU    Chukwunonye      Accounting\n",
      "4    5.0         AGBAKWURU     Chiemeziem       Logistics\n",
      "5    6.0            AKINDE   Oluwatimehin      Accounting\n",
      "6    7.0            ARNIKA          Osose       Logistics\n",
      "7    8.0            ATELLY         Daniel        Delivery\n",
      "8    9.0             AZOGU      Onyekachi        Delivery\n",
      "9   10.0            BETURE         Shalom        Delivery\n",
      "10  11.0          CHUKWUMA           Nedi       Logistics\n",
      "11  12.0               EBI      Stephanie      Accounting\n",
      "12  13.0            EGBORO          Jason  Administration\n",
      "13  14.0           EJEDIMU         Edward        Delivery\n",
      "14  15.0             ELERI            Otu  Administration\n",
      "15  16.0               EZE     Onyinyechi  Administration\n",
      "16  17.0           EZEONYE    Makuochukwu       Logistics\n",
      "17  18.0              GIWA       Moyosore       Logistics\n",
      "18  19.0              ICHA        Ayonete      Accounting\n",
      "19  20.0            IKPATI           Eche      Accounting\n",
      "20  21.0         ILOENYOSI        Michael        Delivery\n",
      "21  22.0             IYAWE  Oluwadamilola        Delivery\n",
      "22  23.0           NWOKOLO       Chijindu       Logistics\n",
      "23  24.0         NWOTOKUBO         Joseph       Logistics\n",
      "24  25.0          OBASOGIE          Daisy      Accounting\n",
      "25  26.0              OBI          Samuel      Accounting\n",
      "26  27.0           OBIALOR          Betha      Accounting\n",
      "27  28.0           OGBONNA     Boluwatife        Delivery\n",
      "28  29.0         OIGBOCHIE           Mary        Delivery\n",
      "29  30.0      OKOCHA-OJEAH        Raphael  Administration\n",
      "30  31.0             OKOLO         Victor  Administration\n",
      "31  32.0             OKORO          Derek       Logistics\n",
      "32  33.0         OLOWOKERE        Akorede      Accounting\n",
      "33  34.0          OLUBUADE        Rasheed      Accounting\n",
      "34  35.0           OSEMEKE         Daniel      Accounting\n",
      "35  36.0             OSSAI   Mary-Cynthia       Logistics\n",
      "36  37.0             PETER         Owoede       Logistics\n",
      "37  38.0            QUADRI   Oluwafikunmi        Delivery\n",
      "38  39.0           UDE-IBE        Uchenna        Delivery\n",
      "39  40.0              UMEH          Ejike  Administration\n"
     ]
    }
   ],
   "source": [
    "file = pd.read_csv(\"jt-ventures.csv\")\n",
    "file.drop([40], axis=0, inplace = True)\n",
    "file.drop(\"Unnamed: 4\", axis=1, inplace = True)\n",
    "employee_data = pd.DataFrame(file)\n",
    "\n",
    "print(\"\\nEmployee Verification System\")\n",
    "surname = input(\"\\nEnter Your Surname: \").upper()\n",
    "department = input(\"\\nEnter Your Department: \").capitalize()\n",
    "\n",
    "def employee_check(surname, department):\n",
    "    if ((employee_data[\"SURNAME\"] == surname) & (employee_data[\"DEPARTMENT\"] == department)).any():\n",
    "        print(f\"\\nWelcome {surname} to jt-ventures profile\")\n",
    "        print(employee_data)\n",
    "    else:\n",
    "        print(f\"\\nEmployee {surname} does not exist\")\n",
    "        \n",
    "employee_check(surname, department)    "
   ]
  },
  {
   "cell_type": "markdown",
   "id": "ea82d975",
   "metadata": {},
   "source": [
    "# PROJECT 2"
   ]
  },
  {
   "cell_type": "code",
   "execution_count": 3,
   "id": "c6365962",
   "metadata": {},
   "outputs": [
    {
     "name": "stdout",
     "output_type": "stream",
     "text": [
      "\n",
      "Welcome To Yega Services\n",
      "\n",
      "Enter Your Location: epe\n",
      "\n",
      "Enter The Weight (kg): 45\n",
      "\n",
      "Your Payment amount is #5000\n"
     ]
    }
   ],
   "source": [
    "print(\"\\nWelcome To Yega Services\")\n",
    "location = input(\"\\nEnter Your Location: \").lower()\n",
    "weight = int(input(\"\\nEnter The Weight (kg): \"))\n",
    "\n",
    "def delivery(location, weight):\n",
    "    if (location == \"epe\") & (weight > 10):\n",
    "        print(\"\\nYour Payment amount is #5000\")\n",
    "        \n",
    "    elif (location == \"epe\") & (weight <= 10):\n",
    "        print(\"\\nYour Payment amount is #4000\")\n",
    "        \n",
    "    elif (location == \"ibeju-lekki\") & (weight > 10):\n",
    "        print(\"\\nYour Payment amount is #2000\")\n",
    "        \n",
    "    elif (location == \"ibeju-lekki\") & (weight <= 10):\n",
    "        print(\"\\nYour Payment amount is #1500\")\n",
    "        \n",
    "        \n",
    "delivery(location, weight)        "
   ]
  },
  {
   "cell_type": "markdown",
   "id": "ccffea29",
   "metadata": {},
   "source": [
    "# PROJECT 3"
   ]
  },
  {
   "cell_type": "code",
   "execution_count": 7,
   "id": "71bba89e",
   "metadata": {},
   "outputs": [
    {
     "name": "stdout",
     "output_type": "stream",
     "text": [
      "Course Offered\n",
      "Type C - Computer Science\n",
      "Type M - Mass Comm\n",
      "\n",
      "Enter Your Name: GBOS\n",
      "\n",
      "Enter JAMB Score: 235\n",
      "\n",
      "Enter Your Choosen Course c or m: C\n",
      "\n",
      "Enter Your Number of Credits: 5\n",
      "\n",
      "Did you pass the interview ?  no\n",
      "\n",
      "You will not be Admitted As a mass comm Undergraduate\n"
     ]
    }
   ],
   "source": [
    "print(\"Course Offered\")\n",
    "print(\"Type C - Computer Science\")\n",
    "print(\"Type M - Mass Comm\")\n",
    "\n",
    "name = input(\"\\nEnter Your Name: \").capitalize()\n",
    "score = int(input(\"\\nEnter JAMB Score: \"))\n",
    "course = input(\"\\nEnter Your Choosen Course c or m: \").lower()\n",
    "credits = int(input(\"\\nEnter Your Number of Credits: \"))\n",
    "interview = input(\"\\nDid you pass the interview ?  \").lower()\n",
    "\n",
    "\n",
    "\n",
    "def admissions(name, score, course, credits, interview):\n",
    "    if (course == \"c\") & (score >= 230) & (credits >= 5) & (interview == \"yes\"):\n",
    "        print(\"\\nYou Have been Admitted As a Computer Science Undergraduate\")\n",
    "        record = {\"Name\" : [name], \"Course\" : [\"Computer Science\"], \"Score\" : [score] , \"Credits\" : [credits], \"Interview\" : [\"Passed\"]}\n",
    "        df = pd.DataFrame(record)\n",
    "        df.to_csv('admitted.csv')\n",
    "        \n",
    "    elif (course == \"c\") & (score < 230) & (interview == \"no\"):\n",
    "        print(\"\\nYou will not be Admitted As a Computer Science Undergraduate\")\n",
    "        record = {\"Name\" : [name], \"Course\" : [\"Computer Science\"], \"Score\" : [score] , \"Credits\" : [credits], \"Interview\" : [\"Failed\"]}\n",
    "        df = pd.DataFrame(record)\n",
    "        df.to_csv('not-admitted.csv')\n",
    "        \n",
    "    elif (course == \"m\") & (score >= 220) & (credits >= 5) & (interview == \"yes\"):\n",
    "        print(\"\\nYou Have been Admitted As a mass comm Undergraduate\")\n",
    "        record = {\"Name\" : [name], \"Course\" : [\"mass comm\"], \"Score\" : [score] , \"Credits\" : [credits], \"Interview\" : [\"Passed\"]}\n",
    "        df = pd.DataFrame(record)\n",
    "        df.to_csv('admitted.csv')\n",
    "        \n",
    "    elif (course == \"m\") or (score < 220) or (interview == \"no\"):\n",
    "        print(\"\\nYou will not be Admitted As a mass comm Undergraduate\")\n",
    "        record = {\"Name\" : [name], \"Course\" : [\"mass comm\"], \"Score\" : [score] , \"Credits\" : [credits], \"Interview\" : [\"Failed\"]}\n",
    "        df = pd.DataFrame(record)\n",
    "        df.to_csv('not-admitted.csv')\n",
    "        \n",
    "admissions(name, score, course, credits, interview)        "
   ]
  },
  {
   "cell_type": "code",
   "execution_count": null,
   "id": "74a01185",
   "metadata": {},
   "outputs": [],
   "source": []
  }
 ],
 "metadata": {
  "kernelspec": {
   "display_name": "Python 3 (ipykernel)",
   "language": "python",
   "name": "python3"
  },
  "language_info": {
   "codemirror_mode": {
    "name": "ipython",
    "version": 3
   },
   "file_extension": ".py",
   "mimetype": "text/x-python",
   "name": "python",
   "nbconvert_exporter": "python",
   "pygments_lexer": "ipython3",
   "version": "3.10.6"
  }
 },
 "nbformat": 4,
 "nbformat_minor": 5
}
