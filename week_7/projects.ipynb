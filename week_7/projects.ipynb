{
 "cells": [
  {
   "cell_type": "code",
   "execution_count": 1,
   "id": "dc5796d6",
   "metadata": {},
   "outputs": [],
   "source": [
    "import pandas as pd"
   ]
  },
  {
   "cell_type": "markdown",
   "id": "5bed8922",
   "metadata": {},
   "source": [
    "# PROJECT 1"
   ]
  },
  {
   "cell_type": "code",
   "execution_count": null,
   "id": "4371ce8f",
   "metadata": {},
   "outputs": [
    {
     "name": "stdout",
     "output_type": "stream",
     "text": [
      "\n",
      "Employee Verification System\n"
     ]
    }
   ],
   "source": [
    "file = pd.read_csv(\"jt-ventures.csv\")\n",
    "file.drop([40], axis=0, inplace = True)\n",
    "file.drop(\"Unnamed: 4\", axis=1, inplace = True)\n",
    "employee_data = pd.DataFrame(file)\n",
    "\n",
    "print(\"\\nEmployee Verification System\")\n",
    "surname = input(\"\\nEnter Your Surname: \").upper()\n",
    "department = input(\"\\nEnter Your Department: \").capitalize()\n",
    "\n",
    "def employee_check(surname, department):\n",
    "    if ((employee_data[\"SURNAME\"] == surname) & (employee_data[\"DEPARTMENT\"] == department)).any():\n",
    "        print(f\"\\nWelcome {surname} to jt-ventures profile\")\n",
    "        print(employee_data)\n",
    "    else:\n",
    "        print(f\"\\nEmployee {surname} does not exist\")\n",
    "        \n",
    "employee_check(surname, department)    "
   ]
  },
  {
   "cell_type": "markdown",
   "id": "b1d2f382",
   "metadata": {},
   "source": [
    "# PROJECT 2"
   ]
  },
  {
   "cell_type": "code",
   "execution_count": null,
   "id": "0a1440a0",
   "metadata": {},
   "outputs": [],
   "source": [
    "print(\"\\nWelcome To Yega Services\")\n",
    "location = input(\"\\nEnter Your Location: \").lower()\n",
    "weight = int(input(\"\\nEnter The Weight (kg): \"))\n",
    "\n",
    "def delivery(location, weight):\n",
    "    if (location == \"epe\") & (weight > 10):\n",
    "        print(\"\\nYour Payment amount is #5000\")\n",
    "        \n",
    "    elif (location == \"epe\") & (weight <= 10):\n",
    "        print(\"\\nYour Payment amount is #4000\")\n",
    "        \n",
    "    elif (location == \"ibeju-lekki\") & (weight > 10):\n",
    "        print(\"\\nYour Payment amount is #2000\")\n",
    "        \n",
    "    elif (location == \"ibeju-lekki\") & (weight <= 10):\n",
    "        print(\"\\nYour Payment amount is #1500\")\n",
    "        \n",
    "        \n",
    "delivery(location, weight)        "
   ]
  },
  {
   "cell_type": "markdown",
   "id": "f4e91d7a",
   "metadata": {},
   "source": [
    "# PROJECT 3"
   ]
  },
  {
   "cell_type": "code",
   "execution_count": null,
   "id": "1ffaa023",
   "metadata": {},
   "outputs": [],
   "source": [
    "print(\"Course Offered\")\n",
    "print(\"Type C - Computer Science\")\n",
    "print(\"Type M - Mass Comm\")\n",
    "\n",
    "name = input(\"\\nEnter Your Name: \").capitalize()\n",
    "score = int(input(\"\\nEnter JAMB Score: \"))\n",
    "course = input(\"\\nEnter Your Choosen Course c or m: \").lower()\n",
    "credits = int(input(\"\\nEnter Your Number of Credits: \"))\n",
    "interview = input(\"\\nDid you pass the interview ?  \").lower()\n",
    "\n",
    "\n",
    "\n",
    "def admissions(name, score, course, credits, interview):\n",
    "    if (course == \"c\") & (score >= 230) & (credits >= 5) & (interview == \"yes\"):\n",
    "        print(\"\\nYou Have been Admitted As a Computer Science Undergraduate\")\n",
    "        record = {\"Name\" : [name], \"Course\" : [\"Computer Science\"], \"Score\" : [score] , \"Credits\" : [credits], \"Interview\" : [\"Passed\"]}\n",
    "        df = pd.DataFrame(record)\n",
    "        df.to_csv('admitted.csv')\n",
    "        \n",
    "    elif (course == \"c\") or (score < 230) or (interview == \"no\"):\n",
    "        print(\"\\nYou will not be Admitted As a Computer Science Undergraduate\")\n",
    "        record = {\"Name\" : [name], \"Course\" : [\"Computer Science\"], \"Score\" : [score] , \"Credits\" : [credits], \"Interview\" : [\"Failed\"]}\n",
    "        df = pd.DataFrame(record)\n",
    "        df.to_csv('not-admitted.csv')\n",
    "        \n",
    "    elif (course == \"m\") & (score >= 220) & (credits >= 5) & (interview == \"passed\"):\n",
    "        print(\"\\nYou Have been Admitted As a Computer Science Undergraduate\")\n",
    "        record = {\"Name\" : [name], \"Course\" : [\"Computer Science\"], \"Score\" : [score] , \"Credits\" : [credits], \"Interview\" : [\"Passed\"]}\n",
    "        df = pd.DataFrame(record)\n",
    "        df.to_csv('admitted.csv')\n",
    "        \n",
    "    elif (course == \"m\") or (score < 220) or (interview == \"no\"):\n",
    "        print(\"\\nYou will not be Admitted As a Computer Science Undergraduate\")\n",
    "        record = {\"Name\" : [name], \"Course\" : [\"Computer Science\"], \"Score\" : [score] , \"Credits\" : [credits], \"Interview\" : [\"Failed\"]}\n",
    "        df = pd.DataFrame(record)\n",
    "        df.to_csv('not-admitted.csv')\n",
    "        \n",
    "admissions(name, score, course, credits, interview)        "
   ]
  },
  {
   "cell_type": "code",
   "execution_count": null,
   "id": "c8a49b14",
   "metadata": {},
   "outputs": [],
   "source": []
  }
 ],
 "metadata": {
  "kernelspec": {
   "display_name": "Python 3 (ipykernel)",
   "language": "python",
   "name": "python3"
  },
  "language_info": {
   "codemirror_mode": {
    "name": "ipython",
    "version": 3
   },
   "file_extension": ".py",
   "mimetype": "text/x-python",
   "name": "python",
   "nbconvert_exporter": "python",
   "pygments_lexer": "ipython3",
   "version": "3.10.6"
  }
 },
 "nbformat": 4,
 "nbformat_minor": 5
}
