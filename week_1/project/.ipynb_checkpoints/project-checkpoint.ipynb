{
 "cells": [
  {
   "cell_type": "code",
   "execution_count": null,
   "id": "60582d2e",
   "metadata": {},
   "outputs": [],
   "source": [
    "# This program calculates simple interest, compound interest and annuity plan"
   ]
  },
  {
   "cell_type": "code",
   "execution_count": 1,
   "id": "b31a284e",
   "metadata": {},
   "outputs": [
    {
     "name": "stdout",
     "output_type": "stream",
     "text": [
      "Please a principal: 1000\n",
      "Please enter a rate: 5\n",
      "please enter a time range: 5\n",
      "1250.0\n"
     ]
    }
   ],
   "source": [
    "# Simple Interest\n",
    "principal = int(input(\"Please a principal: \"))\n",
    "rate = int(input(\"Please enter a rate: \"))\n",
    "time = int(input(\"please enter a time range: \"))\n",
    "\n",
    "simple_interest  = principal * (1 + rate/100 * time) \n",
    "print(simple_interest)"
   ]
  },
  {
   "cell_type": "code",
   "execution_count": 2,
   "id": "1922eef6",
   "metadata": {},
   "outputs": [
    {
     "name": "stdout",
     "output_type": "stream",
     "text": [
      "Please a principal: 1000\n",
      "Please enter a rate: 5\n",
      "please enter a time range: 5\n",
      "please enter no of year: 5\n",
      "33554432000.0\n"
     ]
    }
   ],
   "source": [
    "# Compound Interest\n",
    "principal = int(input(\"Please a principal: \"))\n",
    "rate = int(input(\"Please enter a rate: \"))\n",
    "time = int(input(\"please enter a time range: \"))\n",
    "no_of_yr = int(input(\"please enter no of year: \"))\n",
    "\n",
    "compund_interest = principal * (1 + rate/no_of_yr) ** (no_of_yr * time)\n",
    "print(compund_interest)"
   ]
  },
  {
   "cell_type": "code",
   "execution_count": 3,
   "id": "8572bf4b",
   "metadata": {},
   "outputs": [
    {
     "name": "stdout",
     "output_type": "stream",
     "text": [
      "Please enter a payment: 1000\n",
      "Please enter a rate: 5\n",
      "please enter a time range: 5\n",
      "please enter no of year: 5\n",
      "1342177240.0\n"
     ]
    }
   ],
   "source": [
    "# Annuity Plan\n",
    "payment = int(input(\"Please enter a payment: \"))\n",
    "rate = int(input(\"Please enter a rate: \"))\n",
    "time = int(input(\"please enter a time range: \"))\n",
    "no_of_yr = int(input(\"please enter no of year: \"))\n",
    "\n",
    "annuity_plan = payment * ((1 + rate/no_of_yr) ** (no_of_yr * time) - 1)/rate/no_of_yr\n",
    "print(annuity_plan)"
   ]
  }
 ],
 "metadata": {
  "kernelspec": {
   "display_name": "Python 3 (ipykernel)",
   "language": "python",
   "name": "python3"
  },
  "language_info": {
   "codemirror_mode": {
    "name": "ipython",
    "version": 3
   },
   "file_extension": ".py",
   "mimetype": "text/x-python",
   "name": "python",
   "nbconvert_exporter": "python",
   "pygments_lexer": "ipython3",
   "version": "3.10.6"
  }
 },
 "nbformat": 4,
 "nbformat_minor": 5
}
