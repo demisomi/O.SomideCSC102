{
 "cells": [
  {
   "cell_type": "code",
   "execution_count": 35,
   "id": "4f86335f",
   "metadata": {},
   "outputs": [],
   "source": [
    "# This program the roots of a cubic equation"
   ]
  },
  {
   "cell_type": "code",
   "execution_count": 36,
   "id": "98ede150",
   "metadata": {},
   "outputs": [],
   "source": [
    "from math import sqrt"
   ]
  },
  {
   "cell_type": "code",
   "execution_count": 37,
   "id": "9f0013cd",
   "metadata": {},
   "outputs": [
    {
     "name": "stdout",
     "output_type": "stream",
     "text": [
      "Enter a value for a: 2\n",
      "Enter a value for b: 8\n",
      "Enter a value for c: 10\n",
      "Enter a value for d: 20\n"
     ]
    }
   ],
   "source": [
    "a = int(input(\"Enter a value for a: \"))\n",
    "b = int(input(\"Enter a value for b: \"))\n",
    "c = int(input(\"Enter a value for c: \"))\n",
    "d = int(input(\"Enter a value for d: \"))"
   ]
  },
  {
   "cell_type": "code",
   "execution_count": 38,
   "id": "08f65813",
   "metadata": {},
   "outputs": [],
   "source": [
    "answers = set()\n",
    "\n",
    "\n",
    "def cube_root(polynomial):\n",
    "    answer = set()\n",
    "    root_1 = polynomial ** (1 / 3)\n",
    "    root_2 = (polynomial ** (1 / 3)) * (-1 / 2 + (sqrt(3) * 1j) / 2)\n",
    "    root_3 = (polynomial ** (1 / 3)) * (-1 / 2 - (sqrt(3) * 1j) / 2)\n",
    "    answer.update({root_1, root_2, root_3})\n",
    "    return answer\n"
   ]
  },
  {
   "cell_type": "code",
   "execution_count": 39,
   "id": "a1aa505c",
   "metadata": {},
   "outputs": [],
   "source": [
    "def cardano_formula(a, b, c, d):\n",
    "    p = (3 * a * c - b ** 2) / (3 * a ** 2)\n",
    "    q = (2 * b ** 3 - 9 * a * b * c + 27 * a ** 2 * d) / (27 * a ** 3)\n",
    "    alpha = cube_root(-q / 2 + sqrt((q / 2) ** 2 + (p / 3) ** 3))\n",
    "    beta = cube_root(-q / 2 - sqrt((q / 2) ** 2 + (p / 3) ** 3))\n",
    "    for i in alpha:\n",
    "        for j in beta:\n",
    "            if abs((i * j) + p / 3) <= 0.00001:\n",
    "                x = i + j - b / (3 * a)\n",
    "                answers.add(x)"
   ]
  },
  {
   "cell_type": "code",
   "execution_count": 40,
   "id": "e9282e0d",
   "metadata": {},
   "outputs": [],
   "source": [
    "def quadratic(a, b, c):\n",
    "    D = b ** 2 - 4 * a * c\n",
    "    x1 = (-b + sqrt(D)) / 2 * a\n",
    "    x2 = (-b - sqrt(D)) / 2 * a\n",
    "    answers.update({x1, x2})\n"
   ]
  },
  {
   "cell_type": "code",
   "execution_count": 41,
   "id": "5d5efed0",
   "metadata": {},
   "outputs": [],
   "source": [
    "def linear(a, b):\n",
    "    if a == 0 and b == 0:\n",
    "        answers.append(\"True\")\n",
    "\n",
    "    if a == 0 and b != 0:\n",
    "        answers.add(\"False\")\n",
    "\n",
    "    if a != 0:\n",
    "        answers.add(-b / a)"
   ]
  },
  {
   "cell_type": "code",
   "execution_count": 42,
   "id": "be3c3d30",
   "metadata": {},
   "outputs": [],
   "source": [
    "if a != 0:\n",
    "    cardano_formula(a, b, c, d)\n",
    "\n",
    "elif b != 0:\n",
    "    quadratic(b, c, d)\n",
    "\n",
    "else:\n",
    "    linear(c, d)\n"
   ]
  },
  {
   "cell_type": "code",
   "execution_count": 43,
   "id": "2be2d5fc",
   "metadata": {},
   "outputs": [
    {
     "name": "stdout",
     "output_type": "stream",
     "text": [
      "2x^3+8x^2+10x+20=0\n",
      "{(-0.3025706630669782+1.6894027684097959j), (-3.394858673866043+2.2898349882893854e-16j), (-0.30257066306697866-1.689402768409796j)}\n"
     ]
    }
   ],
   "source": [
    "print(f'{a}x^3+{b}x^2+{c}x+{d}=0')\n",
    "print(\"\n",
    "      \n",
    "      \n",
    "      \")\n",
    "print(f'The roots of the cubic polynomial: {answers})"
   ]
  },
  {
   "cell_type": "code",
   "execution_count": null,
   "id": "5af0868a",
   "metadata": {},
   "outputs": [],
   "source": []
  }
 ],
 "metadata": {
  "kernelspec": {
   "display_name": "Python 3 (ipykernel)",
   "language": "python",
   "name": "python3"
  },
  "language_info": {
   "codemirror_mode": {
    "name": "ipython",
    "version": 3
   },
   "file_extension": ".py",
   "mimetype": "text/x-python",
   "name": "python",
   "nbconvert_exporter": "python",
   "pygments_lexer": "ipython3",
   "version": "3.10.6"
  }
 },
 "nbformat": 4,
 "nbformat_minor": 5
}
