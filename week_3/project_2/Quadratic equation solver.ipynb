{
 "cells": [
  {
   "cell_type": "code",
   "execution_count": 13,
   "id": "0273f1f8",
   "metadata": {},
   "outputs": [],
   "source": [
    "from math import sqrt"
   ]
  },
  {
   "cell_type": "code",
   "execution_count": 14,
   "id": "d19ca946",
   "metadata": {},
   "outputs": [
    {
     "name": "stdout",
     "output_type": "stream",
     "text": [
      "Enter a value for a: 3\n",
      "Enter a value for b: -11\n",
      "Enter a value for c: -4\n"
     ]
    }
   ],
   "source": [
    "a = int(input(\"Enter a value for a: \"))\n",
    "b = int(input(\"Enter a value for b: \"))\n",
    "c = int(input(\"Enter a value for c: \"))"
   ]
  },
  {
   "cell_type": "code",
   "execution_count": 15,
   "id": "99035c4e",
   "metadata": {},
   "outputs": [
    {
     "name": "stdout",
     "output_type": "stream",
     "text": [
      "The roots are real and distinct\n",
      "root1 = 4.0\n",
      "root2 = -0.3333333333333333\n"
     ]
    }
   ],
   "source": [
    "quadratic(a, b, c)"
   ]
  },
  {
   "cell_type": "code",
   "execution_count": 16,
   "id": "a9df7a8c",
   "metadata": {},
   "outputs": [],
   "source": [
    "def quadratic(a, b, c):\n",
    "    Discriminant = b ** 2 - 4 * a * c\n",
    "    \n",
    "    if a == 0 or b == 0 or c == 0:\n",
    "        print(\"Unable to determine roots\")\n",
    "        \n",
    "    \n",
    "    \n",
    "    elif Discriminant < 0.0:\n",
    "        \n",
    "        print(\"Not a real root\")\n",
    "        real_part = -b / (2.0 * a)\n",
    "        Discriminant= abs(Discriminant)\n",
    "        imag_part = sqrt(Discriminant) / (2.0 * a)\n",
    "        print(f\"root1 = {real_part}  +i {imag_part}\")\n",
    "        print(f\"root2 = {real_part}  -i {imag_part}\")\n",
    "     \n",
    "    elif Discriminant == 0.0:\n",
    "        \n",
    "        print(\"The roots are real and equal\")\n",
    "        root_a = -b / (2.0 * a)\n",
    "        root_b = root_a\n",
    "        print(f\"root1 = {root_a}\")\n",
    "        print(f\"root2 = {root_b}\")\n",
    "        \n",
    "    elif Discriminant > 0.0:\n",
    "        \n",
    "        print(\"The roots are real and distinct\")\n",
    "        root_a = (-b + sqrt(Discriminant)) / (2.0 * a)\n",
    "        root_b = (-b - sqrt(Discriminant)) / (2.0 * a)\n",
    "        print(f\"root1 = {root_a}\")\n",
    "        print(f\"root2 = {root_b}\")\n",
    "\n",
    "        "
   ]
  },
  {
   "cell_type": "code",
   "execution_count": null,
   "id": "deae6527",
   "metadata": {},
   "outputs": [],
   "source": []
  },
  {
   "cell_type": "code",
   "execution_count": null,
   "id": "faa7ce3f",
   "metadata": {},
   "outputs": [],
   "source": []
  },
  {
   "cell_type": "code",
   "execution_count": null,
   "id": "d6d7fb39",
   "metadata": {},
   "outputs": [],
   "source": []
  },
  {
   "cell_type": "code",
   "execution_count": null,
   "id": "2708b358",
   "metadata": {},
   "outputs": [],
   "source": []
  },
  {
   "cell_type": "code",
   "execution_count": null,
   "id": "5654955d",
   "metadata": {},
   "outputs": [],
   "source": []
  },
  {
   "cell_type": "code",
   "execution_count": null,
   "id": "5da70c32",
   "metadata": {},
   "outputs": [],
   "source": []
  },
  {
   "cell_type": "code",
   "execution_count": null,
   "id": "b425ef35",
   "metadata": {},
   "outputs": [],
   "source": []
  },
  {
   "cell_type": "code",
   "execution_count": null,
   "id": "cbb91a6f",
   "metadata": {},
   "outputs": [],
   "source": []
  },
  {
   "cell_type": "code",
   "execution_count": null,
   "id": "95f33525",
   "metadata": {},
   "outputs": [],
   "source": []
  }
 ],
 "metadata": {
  "kernelspec": {
   "display_name": "Python 3 (ipykernel)",
   "language": "python",
   "name": "python3"
  },
  "language_info": {
   "codemirror_mode": {
    "name": "ipython",
    "version": 3
   },
   "file_extension": ".py",
   "mimetype": "text/x-python",
   "name": "python",
   "nbconvert_exporter": "python",
   "pygments_lexer": "ipython3",
   "version": "3.10.6"
  }
 },
 "nbformat": 4,
 "nbformat_minor": 5
}
