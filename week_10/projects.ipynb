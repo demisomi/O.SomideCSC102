{
 "cells": [
  {
   "cell_type": "markdown",
   "id": "d207eaf5",
   "metadata": {},
   "source": [
    "# PROJECT 1"
   ]
  },
  {
   "cell_type": "code",
   "execution_count": 6,
   "id": "d16029d6",
   "metadata": {},
   "outputs": [
    {
     "name": "stdout",
     "output_type": "stream",
     "text": [
      "Enter the number of oranges you want to buy: 10\n",
      "You bought 10 oranges. The total cost is #100.00.\n",
      "Thank you for your patronage!\n"
     ]
    }
   ],
   "source": [
    "class Orange:\n",
    "    def __init__(self, stock):\n",
    "        self.stock = stock\n",
    "\n",
    "    def buy_oranges(self, quantity):\n",
    "        if quantity > self.stock:\n",
    "            print(\"Sorry, we don't have enough oranges in stock. Please select a lower quantity.\")\n",
    "        else:\n",
    "            self.stock -= quantity\n",
    "            # Assuming an orange costs #10\n",
    "            cost = quantity * 10  \n",
    "            print(\"You bought {} oranges. The total cost is #{:.2f}.\".format(quantity, cost))\n",
    "            print(\"Thank you for your patronage!\")\n",
    "\n",
    "store = Orange(50)\n",
    "\n",
    "# Prompt the user to enter the quantity of oranges they want to buy\n",
    "while True:\n",
    "    try:\n",
    "        quantity = int(input(\"Enter the number of oranges you want to buy: \"))\n",
    "        store.buy_oranges(quantity)\n",
    "        break\n",
    "    except ValueError:\n",
    "        print(\"Invalid input. Please enter a whole number.\")\n"
   ]
  },
  {
   "cell_type": "markdown",
   "id": "eb83603c",
   "metadata": {},
   "source": [
    "# PROJECT 2"
   ]
  },
  {
   "cell_type": "code",
   "execution_count": 5,
   "id": "02e07fbc",
   "metadata": {},
   "outputs": [
    {
     "name": "stdout",
     "output_type": "stream",
     "text": [
      "Type 1 to calculate the area of Trapezium\n",
      "Type 2 to calculate the area of Rhombus\n",
      "Type 3 to calculate the area of Parallelogram\n",
      "Type 4 to calculate the area of Cube\n",
      "Type 5 to calculate the area of Cylinder\n",
      "Enter a number 1-5: 1\n",
      "Enter a value for base1: 23\n",
      "Enter a value of base2: 12\n",
      "Enter a value of height: 2\n",
      "The area of Trapezium is 35.0\n"
     ]
    }
   ],
   "source": [
    "class shape_calc():\n",
    "    def trapezium(self, height, base1, base2):\n",
    "        self.height = height\n",
    "        self.base1 = base1\n",
    "        self.base2 = base2\n",
    "        \n",
    "        ans = self.height/2 * (self.base1 + self.base2)\n",
    "        print(f\"The area of Trapezium is {ans}\")\n",
    "        \n",
    "        \n",
    "    def rhombus(self, diagonal1, diagonal2):\n",
    "        self.diagonal1 = diagonal1\n",
    "        self.diagonal2 = diagonal2\n",
    "        \n",
    "        ans = 0.5 * (self.diagonal1 * self.diagonal2)\n",
    "        print(f\"The area of Rhombus is {ans}\")\n",
    "    \n",
    "    \n",
    "    def parallelogram(self, base, altitude):\n",
    "        self.base = base\n",
    "        self.altitude = altitude\n",
    "        \n",
    "        ans = self.base * self.altitude\n",
    "        print(f\"The area of Parallelogram is {ans}\")\n",
    "        \n",
    "    def cube(self, length):\n",
    "        self.length = length\n",
    "    \n",
    "    \n",
    "        ans =  6 * self.length ** 2\n",
    "        print(f\"The area of Cube is {ans}\")\n",
    "        \n",
    "        \n",
    "    def cylinder(self, radius, height):\n",
    "        self.radius = radius\n",
    "        self.height = height\n",
    "        \n",
    "        ans = 22/7 * self.radius**2 * self.height\n",
    "        print(f\"The area of Cylinder is {ans}\")\n",
    "        \n",
    "        \n",
    "print(\"Type 1 to calculate the area of Trapezium\")\n",
    "print(\"Type 2 to calculate the area of Rhombus\")\n",
    "print(\"Type 3 to calculate the area of Parallelogram\")\n",
    "print(\"Type 4 to calculate the area of Cube\")\n",
    "print(\"Type 5 to calculate the area of Cylinder\")\n",
    "\n",
    "user_input= int(input(\"Enter a number 1-5: \"))\n",
    "\n",
    "if user_input == 1:\n",
    "    base1 = int(input(\"Enter a value for base1: \"))\n",
    "    base2 = int(input(\"Enter a value of base2: \"))\n",
    "    height = int(input(\"Enter a value of height: \"))\n",
    "    \n",
    "    obj = shape_calc()\n",
    "    obj.trapezium(height, base1, base2)\n",
    "    \n",
    "elif user_input == 2:\n",
    "    diagonal1 = int(input(\"Enter a value for diagonal1: \"))\n",
    "    diagonal2 = int(input(\"Enter a value of diagonal2: \"))\n",
    "    \n",
    "    obj = shape_calc()\n",
    "    obj.rhombus(diagonal1, diagonal2)\n",
    "    \n",
    "elif user_input == 3:\n",
    "    base = int(input(\"Enter a value for the base: \"))\n",
    "    altitude = int(input(\"Enter a value of altitude: \"))\n",
    "    \n",
    "    obj = shape_calc()\n",
    "    obj.parallelogram(base, altitude)\n",
    "    \n",
    "elif user_input == 4:\n",
    "    length = int(input(\"Enter a value for length: \"))\n",
    "    \n",
    "    obj = shape_calcu().cube(length)\n",
    "    obj.cube(length)\n",
    "\n",
    "    \n",
    "elif user_input == 5:\n",
    "    radius = int(input(\"Enter a value for length: \"))\n",
    "    height = int(input(\"Enter a value of height: \"))\n",
    "    \n",
    "    obj = shape_calc()\n",
    "    obj.cylinder(radius, height)\n",
    "    \n",
    "else:\n",
    "    print(\"The number you enter is not between 1 and 5 \")"
   ]
  },
  {
   "cell_type": "markdown",
   "id": "d58a62f2",
   "metadata": {},
   "source": [
    "# PROJECT 3"
   ]
  },
  {
   "cell_type": "code",
   "execution_count": 10,
   "id": "13433a50",
   "metadata": {},
   "outputs": [
    {
     "name": "stdout",
     "output_type": "stream",
     "text": [
      "The CSV file has been created\n"
     ]
    }
   ],
   "source": [
    "import pandas as pd\n",
    "\n",
    "class CsvConverter:\n",
    "    def __init__(self, dataframe):\n",
    "        self.dataframe = dataframe\n",
    "        \n",
    "    def to_csv(self):\n",
    "        csv = self.dataframe.to_csv(\"Nigerian Breweries Plc.csv\")\n",
    "        print(\"The CSV file has been created\")\n",
    "        \n",
    "df = pd.DataFrame({\"Lager\":[\"33 Export\", \"Desperados\", \"Goldberg\", \"Gulder\", \"Heineken\", \"Star\"],\n",
    "                   \"Stout\":[\"Legend\", \"Turbo King\", \"Williams\", \" \", \" \", \" \"],\n",
    "                   \"Non-Alcoholic\":[\"Maltina\", \"Amstel Malta\", \"Malta Gold\", \"Fayrouz\", \" \", \" \"]})\n",
    "\n",
    "obj = CsvConverter(df)\n",
    "obj.to_csv()\n"
   ]
  }
 ],
 "metadata": {
  "kernelspec": {
   "display_name": "Python 3 (ipykernel)",
   "language": "python",
   "name": "python3"
  },
  "language_info": {
   "codemirror_mode": {
    "name": "ipython",
    "version": 3
   },
   "file_extension": ".py",
   "mimetype": "text/x-python",
   "name": "python",
   "nbconvert_exporter": "python",
   "pygments_lexer": "ipython3",
   "version": "3.10.6"
  }
 },
 "nbformat": 4,
 "nbformat_minor": 5
}
